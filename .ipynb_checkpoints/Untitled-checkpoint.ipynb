{
 "cells": [
  {
   "cell_type": "code",
   "execution_count": 3,
   "id": "5648d2cb-1e73-4561-a115-1dda93c89c32",
   "metadata": {},
   "outputs": [],
   "source": [
    "import sqlite3 as sql\n",
    "from time import perf_counter as timer"
   ]
  },
  {
   "cell_type": "code",
   "execution_count": 4,
   "id": "cbc2cc76-810d-473a-b053-559d1a7a50e8",
   "metadata": {},
   "outputs": [],
   "source": [
    "def timethis(fun, *args, **kwargs):\n",
    "    t1 = timer()\n",
    "    output = fun(*args, **kwargs)\n",
    "    t2 = timer()\n",
    "    print((t2 - t1)*1000)\n",
    "    return output"
   ]
  },
  {
   "cell_type": "code",
   "execution_count": 41,
   "id": "6fde1c83-8b5f-4a0c-8581-738a2b80c06f",
   "metadata": {},
   "outputs": [
    {
     "ename": "OperationalError",
     "evalue": "table COMPANY already exists",
     "output_type": "error",
     "traceback": [
      "\u001b[0;31m---------------------------------------------------------------------------\u001b[0m",
      "\u001b[0;31mOperationalError\u001b[0m                          Traceback (most recent call last)",
      "\u001b[0;32m<ipython-input-41-978aeb00eb7d>\u001b[0m in \u001b[0;36m<module>\u001b[0;34m\u001b[0m\n\u001b[1;32m      1\u001b[0m \u001b[0;32mwith\u001b[0m \u001b[0msql\u001b[0m\u001b[0;34m.\u001b[0m\u001b[0mconnect\u001b[0m\u001b[0;34m(\u001b[0m\u001b[0;34m'test.db'\u001b[0m\u001b[0;34m)\u001b[0m \u001b[0;32mas\u001b[0m \u001b[0mconn\u001b[0m\u001b[0;34m:\u001b[0m\u001b[0;34m\u001b[0m\u001b[0;34m\u001b[0m\u001b[0m\n\u001b[0;32m----> 2\u001b[0;31m     conn.execute(\n\u001b[0m\u001b[1;32m      3\u001b[0m         \"\"\"CREATE TABLE COMPANY\n\u001b[1;32m      4\u001b[0m         (ID INT PRIMARY KEY NOT NULL,\n\u001b[1;32m      5\u001b[0m         \u001b[0mNAME\u001b[0m \u001b[0mTEXT\u001b[0m \u001b[0mNOT\u001b[0m \u001b[0mNULL\u001b[0m\u001b[0;34m,\u001b[0m\u001b[0;34m\u001b[0m\u001b[0;34m\u001b[0m\u001b[0m\n",
      "\u001b[0;31mOperationalError\u001b[0m: table COMPANY already exists"
     ]
    }
   ],
   "source": [
    "with sql.connect('test.db') as conn:\n",
    "    \n",
    "    \n",
    "    conn.execute(\n",
    "        \"\"\"CREATE TABLE COMPANY\n",
    "        (ID INT PRIMARY KEY NOT NULL,\n",
    "        NAME TEXT NOT NULL,\n",
    "        AGE INT NOT NULL,\n",
    "        ADDRESS CHAR(50),\n",
    "        SALARY REAL);\"\"\"\n",
    "    )\n",
    "    conn.execute(\"INSERT INTO COMPANY (ID, NAME, AGE, ADDRESS, SALARY) \\\n",
    "    VALUES(1, 'Paul', 32, 'P. Sherman, 42 Wallaby Way, Sidney', 20000.00)\")\n",
    "    conn.execute(\"INSERT INTO COMPANY (ID, NAME, AGE, ADDRESS, SALARY) \\\n",
    "    VALUES(2, 'Jorge', 19, '16 Snidely Blvd., Calgary, Alberta', 12.00)\")\n",
    "    conn.commit()\n",
    "    cursor = conn.execute('SELECT ID, NAME, ADDRESS, SALARY from COMPANY')\n",
    "    names = [description[0] for description in cursor.description]\n",
    "    for row in cursor:\n",
    "        print(*row)"
   ]
  },
  {
   "cell_type": "code",
   "execution_count": 91,
   "id": "0b40dd69-48c9-49c3-88f0-e21a38735567",
   "metadata": {},
   "outputs": [],
   "source": [
    "class db:\n",
    "    def __init__(self, fn):\n",
    "        self.fn = fn\n",
    "        sql.connect(self.fn)\n",
    "    def make_table(self, name, table_string):\n",
    "        \"\"\"table_string: a dict of for {rowname:attributes}\n",
    "        for example, to specify the columns \n",
    "        \n",
    "        ID INT PRIMARY KEY NOT NULL,\n",
    "        NAME TEXT NOT NULL,\n",
    "        \n",
    "        input\n",
    "        \n",
    "        table_string = {'ID': 'INT NOT NULL', \n",
    "                       'NAME': 'TEXT NOT NULL'}\"\"\"\n",
    "        self.table_string = \"\"\",\"\"\".join(f\"\"\"{k.upper()} {v.upper()}\"\"\" for k, v in table_string.items())\n",
    "        self.table_string = f\"\"\"CREATE TABLE IF NOT EXISTS {name.upper()} ({self.table_string});\"\"\"\n",
    "        with sql.connect(self.fn) as conn:\n",
    "            print(self.table_string)\n",
    "            conn.execute(self.table_string)\n",
    "            conn.execute(\"INSERT INTO TESTTABLE (A, B) \\\n",
    "            VALUES(3, 4)\")\n",
    "            conn.commit()\n",
    "            cursor = conn.execute('SELECT ALL')\n",
    "            names = [description[0] for description in cursor.description]\n",
    "            for row in cursor:\n",
    "                print(*row)\n",
    "#         with sql.connect(self.fn) as conn:\n",
    "#             conn.execute(self.table_string)\n",
    "#             conn.execute(\"INSERT INTO COMPANY (ID, NAME, AGE, ADDRESS, SALARY) \\\n",
    "#     VALUES(1, 'Paul', 32, 'P. Sherman, 42 Wallaby Way, Sidney', 20000.00)\")\n",
    "#             conn.execute(\"INSERT INTO COMPANY (ID, NAME, AGE, ADDRESS, SALARY) \\\n",
    "#             VALUES(2, 'Jorge', 19, '16 Snidely Blvd., Calgary, Alberta', 12.00)\")\n",
    "#             conn.commit()\n",
    "#             cursor = conn.execute('SELECT ID, NAME, ADDRESS, SALARY from COMPANY')\n",
    "#             names = [description[0] for description in cursor.description]\n",
    "#             for row in cursor:\n",
    "#                 print(*row)"
   ]
  },
  {
   "cell_type": "code",
   "execution_count": 92,
   "id": "aa6b50d1-8b35-4633-955c-50afb1c5cf55",
   "metadata": {},
   "outputs": [
    {
     "name": "stdout",
     "output_type": "stream",
     "text": [
      "CREATE TABLE IF NOT EXISTS TESTTABLE (A INT NOT NULL,B INT NOT NULL);\n"
     ]
    },
    {
     "ename": "IntegrityError",
     "evalue": "UNIQUE constraint failed: TESTTABLE.A",
     "output_type": "error",
     "traceback": [
      "\u001b[0;31m---------------------------------------------------------------------------\u001b[0m",
      "\u001b[0;31mIntegrityError\u001b[0m                            Traceback (most recent call last)",
      "\u001b[0;32m<ipython-input-92-ae941050a62f>\u001b[0m in \u001b[0;36m<module>\u001b[0;34m\u001b[0m\n\u001b[1;32m      1\u001b[0m \u001b[0mtest\u001b[0m \u001b[0;34m=\u001b[0m \u001b[0mdb\u001b[0m\u001b[0;34m(\u001b[0m\u001b[0;34m'test4.db'\u001b[0m\u001b[0;34m)\u001b[0m\u001b[0;34m\u001b[0m\u001b[0;34m\u001b[0m\u001b[0m\n\u001b[0;32m----> 2\u001b[0;31m \u001b[0mtest\u001b[0m\u001b[0;34m.\u001b[0m\u001b[0mmake_table\u001b[0m\u001b[0;34m(\u001b[0m\u001b[0;34m'TESTTABLE'\u001b[0m\u001b[0;34m,\u001b[0m \u001b[0mdict\u001b[0m\u001b[0;34m(\u001b[0m\u001b[0mA\u001b[0m\u001b[0;34m=\u001b[0m\u001b[0;34m\"INT NOT NULL\"\u001b[0m\u001b[0;34m,\u001b[0m \u001b[0mB\u001b[0m\u001b[0;34m=\u001b[0m\u001b[0;34m\"INT NOT NULL\"\u001b[0m\u001b[0;34m)\u001b[0m\u001b[0;34m)\u001b[0m\u001b[0;34m\u001b[0m\u001b[0;34m\u001b[0m\u001b[0m\n\u001b[0m",
      "\u001b[0;32m<ipython-input-91-3ebb0bcc4c1c>\u001b[0m in \u001b[0;36mmake_table\u001b[0;34m(self, name, table_string)\u001b[0m\n\u001b[1;32m     19\u001b[0m             \u001b[0mprint\u001b[0m\u001b[0;34m(\u001b[0m\u001b[0mself\u001b[0m\u001b[0;34m.\u001b[0m\u001b[0mtable_string\u001b[0m\u001b[0;34m)\u001b[0m\u001b[0;34m\u001b[0m\u001b[0;34m\u001b[0m\u001b[0m\n\u001b[1;32m     20\u001b[0m             \u001b[0mconn\u001b[0m\u001b[0;34m.\u001b[0m\u001b[0mexecute\u001b[0m\u001b[0;34m(\u001b[0m\u001b[0mself\u001b[0m\u001b[0;34m.\u001b[0m\u001b[0mtable_string\u001b[0m\u001b[0;34m)\u001b[0m\u001b[0;34m\u001b[0m\u001b[0;34m\u001b[0m\u001b[0m\n\u001b[0;32m---> 21\u001b[0;31m             conn.execute(\"INSERT INTO TESTTABLE (A, B) \\\n\u001b[0m\u001b[1;32m     22\u001b[0m             VALUES(3, 4)\")\n\u001b[1;32m     23\u001b[0m             \u001b[0mconn\u001b[0m\u001b[0;34m.\u001b[0m\u001b[0mcommit\u001b[0m\u001b[0;34m(\u001b[0m\u001b[0;34m)\u001b[0m\u001b[0;34m\u001b[0m\u001b[0;34m\u001b[0m\u001b[0m\n",
      "\u001b[0;31mIntegrityError\u001b[0m: UNIQUE constraint failed: TESTTABLE.A"
     ]
    }
   ],
   "source": [
    "test = db('test4.db')\n",
    "test.make_table('TESTTABLE', dict(A=\"INT NOT NULL\", B=\"INT NOT NULL\"))"
   ]
  },
  {
   "cell_type": "code",
   "execution_count": 47,
   "id": "7feb7507-7d48-4053-85d9-6afda72d69de",
   "metadata": {},
   "outputs": [],
   "source": [
    "with sql.connect"
   ]
  },
  {
   "cell_type": "code",
   "execution_count": 48,
   "id": "03a1c432-c22d-4efc-b82b-b6c2db32b148",
   "metadata": {},
   "outputs": [
    {
     "data": {
      "text/plain": [
       "'test\\n        test\\n        test'"
      ]
     },
     "execution_count": 48,
     "metadata": {},
     "output_type": "execute_result"
    }
   ],
   "source": []
  },
  {
   "cell_type": "code",
   "execution_count": null,
   "id": "ad6e9ffa-23cf-446d-94dc-503ab8981518",
   "metadata": {},
   "outputs": [],
   "source": []
  }
 ],
 "metadata": {
  "kernelspec": {
   "display_name": "Python 3",
   "language": "python",
   "name": "python3"
  },
  "language_info": {
   "codemirror_mode": {
    "name": "ipython",
    "version": 3
   },
   "file_extension": ".py",
   "mimetype": "text/x-python",
   "name": "python",
   "nbconvert_exporter": "python",
   "pygments_lexer": "ipython3",
   "version": "3.8.8"
  }
 },
 "nbformat": 4,
 "nbformat_minor": 5
}
