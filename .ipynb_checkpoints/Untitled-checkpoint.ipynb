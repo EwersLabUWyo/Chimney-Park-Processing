{
 "cells": [
  {
   "cell_type": "markdown",
   "id": "714f46d1-da6f-4789-9d28-10a433da52dd",
   "metadata": {},
   "source": [
    "# SQLite3 intro"
   ]
  },
  {
   "cell_type": "code",
   "execution_count": 55,
   "id": "647c80d2-f186-42cf-95b8-98c5e4214ac1",
   "metadata": {},
   "outputs": [],
   "source": [
    "import sqlite3 as sq\n",
    "from pathlib import Path\n",
    "\n",
    "import numpy as np\n",
    "import pandas as pd\n",
    "import pyarrow as pa\n",
    "import pyarrow.csv as pacsv"
   ]
  },
  {
   "cell_type": "markdown",
   "id": "d642a9c3-40a2-4eac-ae5e-a70ed6300b3e",
   "metadata": {},
   "source": [
    "Set the directories we want to use\n",
    "\n",
    "* `sandbox_dir`: the main directory for the chimney park sandbox\n",
    "* `data_dir`: where all the sandbox data is kept for general use\n",
    "* `wd`: alex's work directory"
   ]
  },
  {
   "cell_type": "code",
   "execution_count": 56,
   "id": "ddb914c2-f5a2-4b28-b9a6-d1166b3b00c4",
   "metadata": {},
   "outputs": [],
   "source": [
    "sandbox_dir = Path('/Volumes/TempData/Bretfeld Mario/Chimney-Park-Reprocessing-Sandbox/')\n",
    "data_dir = sandbox_dir /'Bad'/'Chimney'/'Data'\n",
    "wd = sandbox_dir = sandbox_dir/'Alex Work'"
   ]
  },
  {
   "cell_type": "markdown",
   "id": "3d37e6f2-3339-487b-85fe-cc95f6f67014",
   "metadata": {},
   "source": [
    "## Creating a database\n",
    "\n",
    "Creating a connection object creates a database automatically if it doesn't already exist. You can input the path to a new/extant `.db` file, or select `':memory:'` as an argument to create it in RAM"
   ]
  },
  {
   "cell_type": "code",
   "execution_count": 57,
   "id": "0d714e85-4bce-4dd6-98e8-8d661901b68c",
   "metadata": {},
   "outputs": [],
   "source": [
    "con = sq.connect(wd / 'CP.db')"
   ]
  },
  {
   "cell_type": "markdown",
   "id": "11e6142c-747d-4d11-aa81-7dae53701401",
   "metadata": {},
   "source": [
    "## Create a cursor\n",
    "\n",
    "You need a cursor object to execute SQLite statements in Python. \n",
    "\n",
    "The cursor is a method of the `connection` object. To execute SQLite commands, you need to establish a connection object first, then create a cursor object using the connection."
   ]
  },
  {
   "cell_type": "code",
   "execution_count": 58,
   "id": "76752e25-6554-4eb4-9e3a-450648c8d909",
   "metadata": {},
   "outputs": [],
   "source": [
    "csr = con.cursor()"
   ]
  },
  {
   "cell_type": "markdown",
   "id": "efbc4f37-1790-4879-a40f-87e5d80e2d9e",
   "metadata": {},
   "source": [
    "## Create a table\n",
    "\n",
    "Steps to make a table:\n",
    "\n",
    "1. Create a `connection` to open/make a database\n",
    "2. Create a `cursor` from the connection\n",
    "3. Call the `cursor.execute()` method with a query as an argument\n",
    "\n",
    "Let's make the table called `Sonic30min` with attributes `TIMESTAMP, Site, Height, Model, U, V, W, Ts, Diag_Sonic`"
   ]
  },
  {
   "cell_type": "code",
   "execution_count": 59,
   "id": "2446fb58-4d03-48c5-80b1-38346304f315",
   "metadata": {},
   "outputs": [],
   "source": [
    "# custom function\n",
    "def create_table(csr, con, name, *columns):\n",
    "    columns = \", \".join(columns)\n",
    "    query = (\n",
    "        f'''\n",
    "        CREATE TABLE {name}(\n",
    "            {columns}\n",
    "        )\n",
    "        '''\n",
    "    )\n",
    "    \n",
    "    print(query)\n",
    "    \n",
    "    # send the query\n",
    "    csr.execute(query)\n",
    "    # save changes\n",
    "    con.commit()\n",
    "    \n",
    "    return\n",
    "\n",
    "csr.execute(\n",
    "    '''\n",
    "    CREATE TABLE Sonic30min(timestamp, site, height, model, stat, u, v, w, t_sonic, diag_sonic)\n",
    "    '''\n",
    ")\n",
    "con.commit()"
   ]
  },
  {
   "cell_type": "markdown",
   "id": "850389f2-c558-42da-9c22-6e25875a4b62",
   "metadata": {},
   "source": [
    "## Insert data into a table\n",
    "\n",
    "Use the `INSERT INTO` query. Use the `VALUES` method to pass raw data in column order"
   ]
  },
  {
   "cell_type": "code",
   "execution_count": 60,
   "id": "07b9fe24-6737-4140-9107-ad056cd88d5b",
   "metadata": {},
   "outputs": [],
   "source": [
    "csr.execute(\n",
    "    '''\n",
    "    INSERT INTO Sonic30min \n",
    "        VALUES('2021-03-04 12:30', 'BBNF', 17, 'CSAT3', 'Avg', 1.3, 2.1, 0.6, 12.2, 248)\n",
    "    '''\n",
    ")\n",
    "con.commit()"
   ]
  },
  {
   "cell_type": "markdown",
   "id": "4be8b178-2df0-46e9-910c-45342ba4571e",
   "metadata": {},
   "source": [
    "You can pass in specific column values by calling those columns from the table. `?`'s are populated by `*args` following the query statement."
   ]
  },
  {
   "cell_type": "code",
   "execution_count": 61,
   "id": "cfedfb41-69a5-4283-a6b2-cfbab7a17c26",
   "metadata": {},
   "outputs": [],
   "source": [
    "args = ('2021-03-04 12:30', 'BBNF', 17, 'CSAT3', 'Std', 2.1)\n",
    "\n",
    "csr.execute(\n",
    "    '''\n",
    "    INSERT INTO \n",
    "        Sonic30min(timestamp, site, height, model, stat, u)\n",
    "        VALUES(?, ?, ?, ?, ?, ?)\n",
    "    ''',\n",
    "    args\n",
    ")\n",
    "\n",
    "csr.execute(\n",
    "    '''\n",
    "    INSERT INTO Sonic30min(timestamp, site, height, model, stat, v)\n",
    "        VALUES(?, ?, ?, ?, ?, ?)\n",
    "    ''',\n",
    "    args\n",
    ")\n",
    "\n",
    "con.commit()"
   ]
  },
  {
   "cell_type": "markdown",
   "id": "92dcea08-c0f2-4bf9-9a01-3f1bcff8b785",
   "metadata": {},
   "source": [
    "## Update a table\n",
    "\n",
    "Change values for extant rows of the data table using `UPDATE`"
   ]
  },
  {
   "cell_type": "code",
   "execution_count": 62,
   "id": "11160200-cd4c-4a57-abb3-2e3213daeb08",
   "metadata": {},
   "outputs": [],
   "source": [
    "csr.execute(\n",
    "    '''\n",
    "    UPDATE Sonic30min\n",
    "    SET Diag_Sonic = 250 \n",
    "    WHERE Stat = 'Std'\n",
    "    '''\n",
    ")\n",
    "\n",
    "con.commit()"
   ]
  },
  {
   "cell_type": "markdown",
   "id": "27c8adf7-20ba-4c1b-928f-85e94857c91c",
   "metadata": {},
   "source": [
    "## Selecting and fetching data\n",
    "\n",
    "Selecting is like highlighting:\n",
    "* Select all columns: `SELECT * FROM table_name`\n",
    "* Select some columns: `SELECT col1, col2 FROM table_name`\n",
    "\n",
    "Once data is selected, it can be fetched using the `cursor.fethall()` method to store values into a list of tuples with shape `Nrows_list_items x Ncols_tuple_items`"
   ]
  },
  {
   "cell_type": "code",
   "execution_count": 63,
   "id": "fd60f845-3460-4189-9a99-6488f7221756",
   "metadata": {},
   "outputs": [
    {
     "name": "stdout",
     "output_type": "stream",
     "text": [
      "[('2021-03-04 12:30', 'BBNF', 17, 'CSAT3', 'Avg', 1.3, 2.1, 0.6, 12.2, 248), ('2021-03-04 12:30', 'BBNF', 17, 'CSAT3', 'Std', 2.1, None, None, None, 250), ('2021-03-04 12:30', 'BBNF', 17, 'CSAT3', 'Std', None, 2.1, None, None, 250)]\n"
     ]
    }
   ],
   "source": [
    "csr.execute(\n",
    "    '''\n",
    "    SELECT * \n",
    "    FROM Sonic30min\n",
    "    '''\n",
    ")\n",
    "data = csr.fetchall()\n",
    "print(data)\n",
    "\n"
   ]
  },
  {
   "cell_type": "markdown",
   "id": "7b1644f4-6c77-41ba-a5e3-c2abfe6e03db",
   "metadata": {},
   "source": [
    "#### Using pandas/numpy\n",
    "\n",
    "* Pandas: `pd.read_sql`/`pd.read_sql_table`/`pd.read_sql_query`\n",
    "* Numpy: `np.fromiter`. More complex to use."
   ]
  },
  {
   "cell_type": "code",
   "execution_count": 68,
   "id": "2a477330-9658-4a88-85b0-5b555168370d",
   "metadata": {},
   "outputs": [
    {
     "data": {
      "text/html": [
       "<div>\n",
       "<style scoped>\n",
       "    .dataframe tbody tr th:only-of-type {\n",
       "        vertical-align: middle;\n",
       "    }\n",
       "\n",
       "    .dataframe tbody tr th {\n",
       "        vertical-align: top;\n",
       "    }\n",
       "\n",
       "    .dataframe thead th {\n",
       "        text-align: right;\n",
       "    }\n",
       "</style>\n",
       "<table border=\"1\" class=\"dataframe\">\n",
       "  <thead>\n",
       "    <tr style=\"text-align: right;\">\n",
       "      <th></th>\n",
       "      <th>timestamp</th>\n",
       "      <th>site</th>\n",
       "      <th>height</th>\n",
       "      <th>model</th>\n",
       "      <th>stat</th>\n",
       "      <th>u</th>\n",
       "      <th>v</th>\n",
       "      <th>w</th>\n",
       "      <th>t_sonic</th>\n",
       "      <th>diag_sonic</th>\n",
       "    </tr>\n",
       "  </thead>\n",
       "  <tbody>\n",
       "    <tr>\n",
       "      <th>0</th>\n",
       "      <td>2021-03-04 12:30</td>\n",
       "      <td>BBNF</td>\n",
       "      <td>17</td>\n",
       "      <td>CSAT3</td>\n",
       "      <td>Avg</td>\n",
       "      <td>1.3</td>\n",
       "      <td>2.1</td>\n",
       "      <td>0.6</td>\n",
       "      <td>12.2</td>\n",
       "      <td>248</td>\n",
       "    </tr>\n",
       "    <tr>\n",
       "      <th>1</th>\n",
       "      <td>2021-03-04 12:30</td>\n",
       "      <td>BBNF</td>\n",
       "      <td>17</td>\n",
       "      <td>CSAT3</td>\n",
       "      <td>Std</td>\n",
       "      <td>2.1</td>\n",
       "      <td>NaN</td>\n",
       "      <td>NaN</td>\n",
       "      <td>NaN</td>\n",
       "      <td>250</td>\n",
       "    </tr>\n",
       "    <tr>\n",
       "      <th>2</th>\n",
       "      <td>2021-03-04 12:30</td>\n",
       "      <td>BBNF</td>\n",
       "      <td>17</td>\n",
       "      <td>CSAT3</td>\n",
       "      <td>Std</td>\n",
       "      <td>NaN</td>\n",
       "      <td>2.1</td>\n",
       "      <td>NaN</td>\n",
       "      <td>NaN</td>\n",
       "      <td>250</td>\n",
       "    </tr>\n",
       "  </tbody>\n",
       "</table>\n",
       "</div>"
      ],
      "text/plain": [
       "          timestamp  site  height  model stat    u    v    w  t_sonic  \\\n",
       "0  2021-03-04 12:30  BBNF      17  CSAT3  Avg  1.3  2.1  0.6     12.2   \n",
       "1  2021-03-04 12:30  BBNF      17  CSAT3  Std  2.1  NaN  NaN      NaN   \n",
       "2  2021-03-04 12:30  BBNF      17  CSAT3  Std  NaN  2.1  NaN      NaN   \n",
       "\n",
       "   diag_sonic  \n",
       "0         248  \n",
       "1         250  \n",
       "2         250  "
      ]
     },
     "execution_count": 68,
     "metadata": {},
     "output_type": "execute_result"
    }
   ],
   "source": [
    "pd.read_sql(sql='SELECT * FROM Sonic30min', con=con)"
   ]
  },
  {
   "cell_type": "markdown",
   "id": "d7ca9865-cd9a-4f14-a1b3-64250cdaac08",
   "metadata": {},
   "source": [
    "### Fetch specific data"
   ]
  },
  {
   "cell_type": "code",
   "execution_count": 141,
   "id": "be9af78b-67aa-4a5d-a609-4febc4c699c0",
   "metadata": {},
   "outputs": [
    {
     "data": {
      "text/plain": [
       "Index(['timestamp', 'site', 'height', 'model', 'diag_sonic'], dtype='object')"
      ]
     },
     "execution_count": 141,
     "metadata": {},
     "output_type": "execute_result"
    }
   ],
   "source": [
    "# filter using WHERE\n",
    "query = (\n",
    "    '''\n",
    "    SELECT timestamp, site, height, model, diag_sonic \n",
    "    FROM Sonic30min\n",
    "    WHERE stat = 'Std'\n",
    "    '''\n",
    ")\n",
    "\n",
    "pd.read_sql(query, con).columns"
   ]
  },
  {
   "cell_type": "markdown",
   "id": "d4d4a112-11fd-467d-8d43-8040bd4a3f88",
   "metadata": {},
   "source": [
    "## Delete data\n",
    "\n",
    "Delete data with the `DELETE` statement. When using delete *without* as `WHERE` clause/condition, all rows in the table will be deleted."
   ]
  },
  {
   "cell_type": "code",
   "execution_count": 94,
   "id": "7d5d9e14-cadb-4357-80c5-a1e3af3fd4df",
   "metadata": {},
   "outputs": [
    {
     "data": {
      "text/plain": [
       "3"
      ]
     },
     "execution_count": 94,
     "metadata": {},
     "output_type": "execute_result"
    }
   ],
   "source": [
    "csr.execute('DELETE FROM Sonic30min').rowcount"
   ]
  },
  {
   "cell_type": "markdown",
   "id": "cecabe9b-6558-4c53-9a94-204fce2d20c7",
   "metadata": {},
   "source": [
    "If we were to commit this transaction/command with `con.commit()`, the deletion would be permanent. We can cancel this transaction with `con.rollback()` if we haven't allready used `commit`"
   ]
  },
  {
   "cell_type": "code",
   "execution_count": 95,
   "id": "f1858ed5-58e7-4b08-94e2-2a7e91abb9d7",
   "metadata": {},
   "outputs": [],
   "source": [
    "con.rollback()"
   ]
  },
  {
   "cell_type": "markdown",
   "id": "df3cd235-6a07-49d0-b2bc-60bfab0a6c51",
   "metadata": {},
   "source": [
    "## Listing available tables\n",
    "\n",
    "query from the `sqlite_master` table, which stores table metadata. The `name` column of `sqlite_master` contains the table names. "
   ]
  },
  {
   "cell_type": "code",
   "execution_count": 101,
   "id": "fa6c7c02-8817-40ef-96c6-e0b45bf6529c",
   "metadata": {},
   "outputs": [
    {
     "data": {
      "text/plain": [
       "[('Sonic30min',)]"
      ]
     },
     "execution_count": 101,
     "metadata": {},
     "output_type": "execute_result"
    }
   ],
   "source": [
    "csr.execute('SELECT name FROM sqlite_master WHERE type=\"table\"')\n",
    "csr.fetchall()"
   ]
  },
  {
   "cell_type": "markdown",
   "id": "7d5061cf-0d5c-4411-8af9-f0c89bc38522",
   "metadata": {},
   "source": [
    "#### Check if a table exists when creating to avoid errors"
   ]
  },
  {
   "cell_type": "code",
   "execution_count": 113,
   "id": "240e52e4-145c-4d3c-9893-ad3b6a113ac8",
   "metadata": {},
   "outputs": [],
   "source": [
    "csr.execute(\n",
    "    '''\n",
    "    CREATE TABLE IF NOT EXISTS \n",
    "    IRGA(timestamp, site, height, model, stat, co2, h2o, tcell, pcell, diag_irga)\n",
    "    '''\n",
    ")\n",
    "con.commit()"
   ]
  },
  {
   "cell_type": "markdown",
   "id": "3f08de4a-c377-4cb5-a7c3-6738d02d22ab",
   "metadata": {},
   "source": [
    "Or check manually"
   ]
  },
  {
   "cell_type": "code",
   "execution_count": 114,
   "id": "bebade64-86ba-42ce-b640-6bfd135afe36",
   "metadata": {},
   "outputs": [
    {
     "data": {
      "text/plain": [
       "[('IRGA',)]"
      ]
     },
     "execution_count": 114,
     "metadata": {},
     "output_type": "execute_result"
    }
   ],
   "source": [
    "csr.execute('SELECT name FROM sqlite_master WHERE type=\"table\" AND name=\"IRGA\"')\n",
    "csr.fetchall()"
   ]
  },
  {
   "cell_type": "markdown",
   "id": "81b906aa-cfec-43a1-b7b0-9830ea84a93b",
   "metadata": {},
   "source": [
    "#### Deleting entire tables\n",
    "\n",
    "Use `DROP`\n",
    "\n",
    "***NB. `DROP` CANNOT BE ROLLED BACK!***"
   ]
  },
  {
   "cell_type": "code",
   "execution_count": 115,
   "id": "e74179ac-2403-4374-9f61-cc5046f06eb7",
   "metadata": {},
   "outputs": [],
   "source": [
    "# csr.execute('DROP TABLE IF EXISTS IRGA')\n",
    "# con.commit()"
   ]
  },
  {
   "cell_type": "markdown",
   "id": "2eba2144-bf87-4b4b-9954-aa71666b1bf7",
   "metadata": {},
   "source": [
    "## Bulk data insertion\n",
    "\n",
    "Use `cursor.executemany()` method to insert multiple *rows* at once."
   ]
  },
  {
   "cell_type": "code",
   "execution_count": 117,
   "id": "3ebe0a43-e7f3-4a60-b063-203d3252b627",
   "metadata": {},
   "outputs": [],
   "source": [
    "# inserting 3 rows\n",
    "data = [\n",
    "    ('2021-03-04 12:30', 'BBNF', 17, 'LI-7500', 'Avg', 620, 5.2, 12.8, 72.1, 248),\n",
    "    ('2021-03-04 13:00', 'BBNF', 17, 'LI-7500', 'Avg', 624, 5.1, 12.0, 72.1, 248),\n",
    "    ('2021-03-04 13:30', 'BBNF', 17, 'LI-7500', 'Avg', 628, 5.0, 10.1, 72.1, 248)\n",
    "]\n",
    "\n",
    "csr.executemany(\n",
    "    '''\n",
    "    INSERT INTO IRGA(timestamp, site, height, model, stat, co2, h2o, tcell, pcell, diag_irga)\n",
    "        VALUES(?, ?, ?, ?, ?, ?, ?, ?, ?, ?)\n",
    "    ''',\n",
    "    data\n",
    ")\n",
    "con.commit()"
   ]
  },
  {
   "cell_type": "markdown",
   "id": "a04b0297-d808-492e-ada2-ed4a8fa79349",
   "metadata": {},
   "source": [
    "## Closing a connection"
   ]
  },
  {
   "cell_type": "code",
   "execution_count": 118,
   "id": "d630e2ef-f9c0-4296-a51e-8d67d78de094",
   "metadata": {},
   "outputs": [],
   "source": [
    "con.close()"
   ]
  },
  {
   "cell_type": "markdown",
   "id": "6bfc98ba-5cd3-44c6-adc8-6fa3c6e46f17",
   "metadata": {},
   "source": [
    "Alternatively, use a context manager"
   ]
  },
  {
   "cell_type": "code",
   "execution_count": 128,
   "id": "2b3f745e-02f4-45ed-a8de-cac0deeddedf",
   "metadata": {},
   "outputs": [
    {
     "name": "stdout",
     "output_type": "stream",
     "text": [
      "[('2021-03-04 12:30', 'BBNF', 17, 'LI-7500', 'Avg', 620, 5.2, 12.8, 72.1, 248), ('2021-03-04 13:00', 'BBNF', 17, 'LI-7500', 'Avg', 624, 5.1, 12.0, 72.1, 248), ('2021-03-04 13:30', 'BBNF', 17, 'LI-7500', 'Avg', 628, 5.0, 10.1, 72.1, 248)]\n"
     ]
    }
   ],
   "source": [
    "from contextlib import closing\n",
    "with closing(sq.connect(wd/'CP.db')) as con:\n",
    "    csr = con.cursor()\n",
    "    csr.execute('SELECT * FROM IRGA')\n",
    "    print(csr.fetchall())"
   ]
  },
  {
   "cell_type": "markdown",
   "id": "6da399cd-5731-4223-a80e-9e76a898e8a6",
   "metadata": {},
   "source": [
    "## Datatypes\n",
    "\n",
    "SQLite has several storage classes:\n",
    "\n",
    "* NULL, for null values\n",
    "* INTEGER for signed integers from 0 to 8 bytes. Also contains BOOL.\n",
    "* REAL for floats, stored as IEEE8\n",
    "* TEXT stored using database encoding such as UTF-8, etc\n",
    "* BLOB, stored exactly as input.\n",
    "\n",
    "SQLite will try to best type data in a database, so for example the string `'123'` will be converted to the `INT` `123`, unless it's entered into a rigidly typed column with the `TEXT` type.\n",
    "\n",
    "See: https://www.sqlite.org/datatype3.html\n",
    "\n",
    "#### Datetimes\n",
    "\n",
    "Sql cannot store actual datetime objects, so just format things in ISO strings as `YYYY-MM-DD HH:MM:SS.SSS`, or some substring of that."
   ]
  },
  {
   "cell_type": "code",
   "execution_count": 149,
   "id": "ebf9cd43-12a0-47d3-8a75-cc9a6242eab8",
   "metadata": {},
   "outputs": [
    {
     "data": {
      "text/html": [
       "<div>\n",
       "<style scoped>\n",
       "    .dataframe tbody tr th:only-of-type {\n",
       "        vertical-align: middle;\n",
       "    }\n",
       "\n",
       "    .dataframe tbody tr th {\n",
       "        vertical-align: top;\n",
       "    }\n",
       "\n",
       "    .dataframe thead th {\n",
       "        text-align: right;\n",
       "    }\n",
       "</style>\n",
       "<table border=\"1\" class=\"dataframe\">\n",
       "  <thead>\n",
       "    <tr style=\"text-align: right;\">\n",
       "      <th></th>\n",
       "      <th></th>\n",
       "      <th></th>\n",
       "      <th></th>\n",
       "      <th>model</th>\n",
       "      <th>swin</th>\n",
       "      <th>swout</th>\n",
       "      <th>lwin</th>\n",
       "      <th>lwout</th>\n",
       "      <th>rnet</th>\n",
       "      <th>alb</th>\n",
       "      <th>tb</th>\n",
       "    </tr>\n",
       "    <tr>\n",
       "      <th>timestamp</th>\n",
       "      <th>site</th>\n",
       "      <th>height</th>\n",
       "      <th>stat</th>\n",
       "      <th></th>\n",
       "      <th></th>\n",
       "      <th></th>\n",
       "      <th></th>\n",
       "      <th></th>\n",
       "      <th></th>\n",
       "      <th></th>\n",
       "      <th></th>\n",
       "    </tr>\n",
       "  </thead>\n",
       "  <tbody>\n",
       "    <tr>\n",
       "      <th>2021-03-04 13:00:00</th>\n",
       "      <th>BBNF</th>\n",
       "      <th>17</th>\n",
       "      <th>Avg</th>\n",
       "      <td>CNR4</td>\n",
       "      <td>500.0</td>\n",
       "      <td>300.0</td>\n",
       "      <td>100.0</td>\n",
       "      <td>50.0</td>\n",
       "      <td>250.0</td>\n",
       "      <td>0.8</td>\n",
       "      <td>10.1</td>\n",
       "    </tr>\n",
       "  </tbody>\n",
       "</table>\n",
       "</div>"
      ],
      "text/plain": [
       "                                     model   swin  swout   lwin  lwout   rnet  \\\n",
       "timestamp           site height stat                                            \n",
       "2021-03-04 13:00:00 BBNF 17     Avg   CNR4  500.0  300.0  100.0   50.0  250.0   \n",
       "\n",
       "                                      alb    tb  \n",
       "timestamp           site height stat             \n",
       "2021-03-04 13:00:00 BBNF 17     Avg   0.8  10.1  "
      ]
     },
     "metadata": {},
     "output_type": "display_data"
    }
   ],
   "source": [
    "with closing(sq.connect(wd/'CP.db')) as con:\n",
    "    csr = con.cursor()\n",
    "    csr.execute(\n",
    "        '''\n",
    "        CREATE TABLE IF NOT EXISTS \n",
    "            Netrad(\n",
    "                timestamp TEXT, \n",
    "                site TEXT, \n",
    "                height INTEGER, \n",
    "                model TEXT, \n",
    "                stat TEXT, \n",
    "                swin REAL, \n",
    "                swout REAL, \n",
    "                lwin REAL,\n",
    "                lwout REAL,\n",
    "                rnet REAL,\n",
    "                alb REAL,\n",
    "                tb REAL\n",
    "            )\n",
    "        '''\n",
    "    )\n",
    "    \n",
    "    # note here how we enter data using the \"wrong\" data types, but they are coerced into whatever our declared column affinity was.\n",
    "#     csr.execute(\n",
    "#         '''INSERT INTO Netrad\n",
    "#             VALUES(\n",
    "#                 '2021-03-04 13:00',\n",
    "#                 'BBNF',\n",
    "#                 '17',\n",
    "#                 'CNR4',\n",
    "#                 'Avg',\n",
    "#                 500,\n",
    "#                 300.0,\n",
    "#                 '100',\n",
    "#                 '50.0',\n",
    "#                 250,\n",
    "#                 0.8,\n",
    "#                 10.1\n",
    "                \n",
    "#             )'''\n",
    "#     )\n",
    "    \n",
    "    con.commit()\n",
    "    \n",
    "    # filter using WHERE\n",
    "    query = (\n",
    "        '''\n",
    "        SELECT * \n",
    "        FROM Netrad\n",
    "        '''\n",
    "    )\n",
    "\n",
    "    display(pd.read_sql(query, \n",
    "                        con,\n",
    "                        parse_dates='timestamp', \n",
    "                        index_col = ['timestamp', 'site', 'height', 'stat']\n",
    "                       ))"
   ]
  },
  {
   "cell_type": "markdown",
   "id": "ea6aaef1-0d6f-4b71-9c99-4b321e4970be",
   "metadata": {},
   "source": []
  },
  {
   "cell_type": "code",
   "execution_count": null,
   "id": "06bc2a24-5065-4547-937c-ce39d8bffad7",
   "metadata": {},
   "outputs": [],
   "source": []
  }
 ],
 "metadata": {
  "kernelspec": {
   "display_name": "Python 3",
   "language": "python",
   "name": "python3"
  },
  "language_info": {
   "codemirror_mode": {
    "name": "ipython",
    "version": 3
   },
   "file_extension": ".py",
   "mimetype": "text/x-python",
   "name": "python",
   "nbconvert_exporter": "python",
   "pygments_lexer": "ipython3",
   "version": "3.8.8"
  }
 },
 "nbformat": 4,
 "nbformat_minor": 5
}
