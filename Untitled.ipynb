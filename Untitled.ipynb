{
 "cells": [
  {
   "cell_type": "code",
   "execution_count": 3,
   "id": "5648d2cb-1e73-4561-a115-1dda93c89c32",
   "metadata": {},
   "outputs": [],
   "source": [
    "import sqlite3 as sql\n",
    "from time import perf_counter as timer"
   ]
  },
  {
   "cell_type": "code",
   "execution_count": 4,
   "id": "cbc2cc76-810d-473a-b053-559d1a7a50e8",
   "metadata": {},
   "outputs": [],
   "source": [
    "def timethis(fun, *args, **kwargs):\n",
    "    t1 = timer()\n",
    "    output = fun(*args, **kwargs)\n",
    "    t2 = timer()\n",
    "    print((t2 - t1)*1000)\n",
    "    return output"
   ]
  },
  {
   "cell_type": "code",
   "execution_count": 136,
   "id": "6fde1c83-8b5f-4a0c-8581-738a2b80c06f",
   "metadata": {},
   "outputs": [],
   "source": [
    "# TODO with the summary:\n",
    "            # I should be able to...\n",
    "            # * Easily graph all sites at once and show multiple stats for each variable\n",
    "            # * Easily flag time periods of interest\n",
    "            # * Easily zoom in on time periods of interest\n",
    "            # * Find input and output files associated with the time period of interest\n",
    "            # * Solution: sqlite database, not pandas dataframe.\n",
    "            # * One stats table and one rawfile metadata table for each site.\n",
    "            # * Stats table key: starting timestamp\n",
    "            # * Metadata table key: file timestamp\n",
    "\n",
    "def create_table():\n",
    "    with sql.connect('test2.db') as conn:\n",
    "        create_table_query = \"\"\"\n",
    "            CREATE TABLE IF NOT EXISTS stats\n",
    "            (timestamp INT PRIMARY KEY NOT NULL,\n",
    "            co2_avg REAL,\n",
    "            co2_max REAL\n",
    "            );\n",
    "            \"\"\"\n",
    "        cursor = conn.cursor()\n",
    "        cursor.execute(create_table_query)\n",
    "        for i in range(10_000):\n",
    "            data = (20210101130000 + i, 600, 750)\n",
    "            cursor.execute(\n",
    "                'INSERT INTO stats (timestamp, co2_avg, co2_max) \\\n",
    "                VALUES(?, ?, ?)', data)\n",
    "            conn.commit()\n",
    "            cursor = conn.execute('SELECT * FROM stats')\n",
    "    "
   ]
  },
  {
   "cell_type": "code",
   "execution_count": 137,
   "id": "0b40dd69-48c9-49c3-88f0-e21a38735567",
   "metadata": {},
   "outputs": [
    {
     "name": "stdout",
     "output_type": "stream",
     "text": [
      "8918.183097999645\n"
     ]
    }
   ],
   "source": [
    "timethis(create_table)"
   ]
  },
  {
   "cell_type": "code",
   "execution_count": 145,
   "id": "61b4bd5b-211d-4fd5-9764-c39bceb3cd9c",
   "metadata": {},
   "outputs": [
    {
     "name": "stdout",
     "output_type": "stream",
     "text": [
      "16879.72930199976\n"
     ]
    }
   ],
   "source": [
    "def create_pandas_table():\n",
    "    df = pandas.DataFrame(columns=['timestamp', 'co2_avg', 'co2_max'])\n",
    "    df.set_index('timestamp', inplace=True)\n",
    "    for i in range(10_000):\n",
    "        data = (20210101130000 + i, 600, 750)\n",
    "        df.loc[data[0]] = data[1:]\n",
    "timethis(create_pandas_table)"
   ]
  },
  {
   "cell_type": "code",
   "execution_count": 115,
   "id": "aa6b50d1-8b35-4633-955c-50afb1c5cf55",
   "metadata": {},
   "outputs": [
    {
     "ename": "RecursionError",
     "evalue": "maximum recursion depth exceeded",
     "output_type": "error",
     "traceback": [
      "\u001b[0;31m---------------------------------------------------------------------------\u001b[0m",
      "\u001b[0;31mRecursionError\u001b[0m                            Traceback (most recent call last)",
      "\u001b[0;32m<ipython-input-115-0a66b7f9426c>\u001b[0m in \u001b[0;36m<module>\u001b[0;34m\u001b[0m\n\u001b[0;32m----> 1\u001b[0;31m \u001b[0mtest\u001b[0m \u001b[0;34m=\u001b[0m \u001b[0mdb\u001b[0m\u001b[0;34m(\u001b[0m\u001b[0;34m'test8.db'\u001b[0m\u001b[0;34m)\u001b[0m\u001b[0;34m\u001b[0m\u001b[0;34m\u001b[0m\u001b[0m\n\u001b[0m\u001b[1;32m      2\u001b[0m \u001b[0mtest\u001b[0m\u001b[0;34m.\u001b[0m\u001b[0mmake_table\u001b[0m\u001b[0;34m(\u001b[0m\u001b[0;34m'BLOOOOOB'\u001b[0m\u001b[0;34m,\u001b[0m \u001b[0mdict\u001b[0m\u001b[0;34m(\u001b[0m\u001b[0mA\u001b[0m\u001b[0;34m=\u001b[0m\u001b[0;34m\"INT NOT NULL\"\u001b[0m\u001b[0;34m,\u001b[0m \u001b[0mB\u001b[0m\u001b[0;34m=\u001b[0m\u001b[0;34m\"INT NOT NULL\"\u001b[0m\u001b[0;34m)\u001b[0m\u001b[0;34m)\u001b[0m\u001b[0;34m\u001b[0m\u001b[0;34m\u001b[0m\u001b[0m\n",
      "\u001b[0;32m<ipython-input-114-b07694c2e6ce>\u001b[0m in \u001b[0;36m__init__\u001b[0;34m(self, fn)\u001b[0m\n\u001b[1;32m      4\u001b[0m     \u001b[0;32mdef\u001b[0m \u001b[0m__init__\u001b[0m\u001b[0;34m(\u001b[0m\u001b[0mself\u001b[0m\u001b[0;34m,\u001b[0m \u001b[0mfn\u001b[0m\u001b[0;34m)\u001b[0m\u001b[0;34m:\u001b[0m\u001b[0;34m\u001b[0m\u001b[0;34m\u001b[0m\u001b[0m\n\u001b[1;32m      5\u001b[0m \u001b[0;34m\u001b[0m\u001b[0m\n\u001b[0;32m----> 6\u001b[0;31m         \u001b[0msql\u001b[0m\u001b[0;34m.\u001b[0m\u001b[0mconnect\u001b[0m\u001b[0;34m(\u001b[0m\u001b[0mself\u001b[0m\u001b[0;34m.\u001b[0m\u001b[0mfn\u001b[0m\u001b[0;34m)\u001b[0m\u001b[0;34m\u001b[0m\u001b[0;34m\u001b[0m\u001b[0m\n\u001b[0m\u001b[1;32m      7\u001b[0m \u001b[0;34m\u001b[0m\u001b[0m\n\u001b[1;32m      8\u001b[0m         \u001b[0mfmt\u001b[0m \u001b[0;34m=\u001b[0m \u001b[0mlogging\u001b[0m\u001b[0;34m.\u001b[0m\u001b[0mFormatter\u001b[0m\u001b[0;34m(\u001b[0m\u001b[0;34m'%(levelname)s    %(name)s    %(lineno)d    %(message)s'\u001b[0m\u001b[0;34m)\u001b[0m\u001b[0;34m\u001b[0m\u001b[0;34m\u001b[0m\u001b[0m\n",
      "\u001b[0;32m<ipython-input-114-b07694c2e6ce>\u001b[0m in \u001b[0;36mfn\u001b[0;34m(self)\u001b[0m\n\u001b[1;32m     16\u001b[0m     \u001b[0;34m@\u001b[0m\u001b[0mproperty\u001b[0m\u001b[0;34m\u001b[0m\u001b[0;34m\u001b[0m\u001b[0m\n\u001b[1;32m     17\u001b[0m     \u001b[0;32mdef\u001b[0m \u001b[0mfn\u001b[0m\u001b[0;34m(\u001b[0m\u001b[0mself\u001b[0m\u001b[0;34m)\u001b[0m\u001b[0;34m:\u001b[0m\u001b[0;34m\u001b[0m\u001b[0;34m\u001b[0m\u001b[0m\n\u001b[0;32m---> 18\u001b[0;31m         \u001b[0;32mreturn\u001b[0m \u001b[0mPath\u001b[0m\u001b[0;34m(\u001b[0m\u001b[0mself\u001b[0m\u001b[0;34m.\u001b[0m\u001b[0mfn\u001b[0m\u001b[0;34m)\u001b[0m\u001b[0;34m\u001b[0m\u001b[0;34m\u001b[0m\u001b[0m\n\u001b[0m\u001b[1;32m     19\u001b[0m \u001b[0;34m\u001b[0m\u001b[0m\n\u001b[1;32m     20\u001b[0m     \u001b[0;32mdef\u001b[0m \u001b[0mmake_table\u001b[0m\u001b[0;34m(\u001b[0m\u001b[0mself\u001b[0m\u001b[0;34m,\u001b[0m \u001b[0mname\u001b[0m\u001b[0;34m,\u001b[0m \u001b[0mtable_string\u001b[0m\u001b[0;34m)\u001b[0m\u001b[0;34m:\u001b[0m\u001b[0;34m\u001b[0m\u001b[0;34m\u001b[0m\u001b[0m\n",
      "... last 1 frames repeated, from the frame below ...\n",
      "\u001b[0;32m<ipython-input-114-b07694c2e6ce>\u001b[0m in \u001b[0;36mfn\u001b[0;34m(self)\u001b[0m\n\u001b[1;32m     16\u001b[0m     \u001b[0;34m@\u001b[0m\u001b[0mproperty\u001b[0m\u001b[0;34m\u001b[0m\u001b[0;34m\u001b[0m\u001b[0m\n\u001b[1;32m     17\u001b[0m     \u001b[0;32mdef\u001b[0m \u001b[0mfn\u001b[0m\u001b[0;34m(\u001b[0m\u001b[0mself\u001b[0m\u001b[0;34m)\u001b[0m\u001b[0;34m:\u001b[0m\u001b[0;34m\u001b[0m\u001b[0;34m\u001b[0m\u001b[0m\n\u001b[0;32m---> 18\u001b[0;31m         \u001b[0;32mreturn\u001b[0m \u001b[0mPath\u001b[0m\u001b[0;34m(\u001b[0m\u001b[0mself\u001b[0m\u001b[0;34m.\u001b[0m\u001b[0mfn\u001b[0m\u001b[0;34m)\u001b[0m\u001b[0;34m\u001b[0m\u001b[0;34m\u001b[0m\u001b[0m\n\u001b[0m\u001b[1;32m     19\u001b[0m \u001b[0;34m\u001b[0m\u001b[0m\n\u001b[1;32m     20\u001b[0m     \u001b[0;32mdef\u001b[0m \u001b[0mmake_table\u001b[0m\u001b[0;34m(\u001b[0m\u001b[0mself\u001b[0m\u001b[0;34m,\u001b[0m \u001b[0mname\u001b[0m\u001b[0;34m,\u001b[0m \u001b[0mtable_string\u001b[0m\u001b[0;34m)\u001b[0m\u001b[0;34m:\u001b[0m\u001b[0;34m\u001b[0m\u001b[0;34m\u001b[0m\u001b[0m\n",
      "\u001b[0;31mRecursionError\u001b[0m: maximum recursion depth exceeded"
     ]
    }
   ],
   "source": [
    "test = db('test8.db')\n",
    "test.make_table('BLOOOOOB', dict(A=\"INT NOT NULL\", B=\"INT NOT NULL\"))"
   ]
  },
  {
   "cell_type": "code",
   "execution_count": 98,
   "id": "7feb7507-7d48-4053-85d9-6afda72d69de",
   "metadata": {},
   "outputs": [
    {
     "ename": "OperationalError",
     "evalue": "no tables specified",
     "output_type": "error",
     "traceback": [
      "\u001b[0;31m---------------------------------------------------------------------------\u001b[0m",
      "\u001b[0;31mOperationalError\u001b[0m                          Traceback (most recent call last)",
      "\u001b[0;32m<ipython-input-98-86e05d78c6f1>\u001b[0m in \u001b[0;36m<module>\u001b[0;34m\u001b[0m\n\u001b[1;32m      5\u001b[0m         VALUES(3, 4)\")\n\u001b[1;32m      6\u001b[0m     \u001b[0mconn\u001b[0m\u001b[0;34m.\u001b[0m\u001b[0mcommit\u001b[0m\u001b[0;34m(\u001b[0m\u001b[0;34m)\u001b[0m\u001b[0;34m\u001b[0m\u001b[0;34m\u001b[0m\u001b[0m\n\u001b[0;32m----> 7\u001b[0;31m     \u001b[0mcursor\u001b[0m \u001b[0;34m=\u001b[0m \u001b[0mconn\u001b[0m\u001b[0;34m.\u001b[0m\u001b[0mexecute\u001b[0m\u001b[0;34m(\u001b[0m\u001b[0;34m'SELECT *'\u001b[0m\u001b[0;34m)\u001b[0m\u001b[0;34m\u001b[0m\u001b[0;34m\u001b[0m\u001b[0m\n\u001b[0m\u001b[1;32m      8\u001b[0m     \u001b[0mnames\u001b[0m \u001b[0;34m=\u001b[0m \u001b[0;34m[\u001b[0m\u001b[0mdescription\u001b[0m\u001b[0;34m[\u001b[0m\u001b[0;36m0\u001b[0m\u001b[0;34m]\u001b[0m \u001b[0;32mfor\u001b[0m \u001b[0mdescription\u001b[0m \u001b[0;32min\u001b[0m \u001b[0mcursor\u001b[0m\u001b[0;34m.\u001b[0m\u001b[0mdescription\u001b[0m\u001b[0;34m]\u001b[0m\u001b[0;34m\u001b[0m\u001b[0;34m\u001b[0m\u001b[0m\n\u001b[1;32m      9\u001b[0m     \u001b[0;32mfor\u001b[0m \u001b[0mrow\u001b[0m \u001b[0;32min\u001b[0m \u001b[0mcursor\u001b[0m\u001b[0;34m:\u001b[0m\u001b[0;34m\u001b[0m\u001b[0;34m\u001b[0m\u001b[0m\n",
      "\u001b[0;31mOperationalError\u001b[0m: no tables specified"
     ]
    }
   ],
   "source": [
    "with sql.connect('test6.db') as conn:\n",
    "    conn.execute(\"\"\"CREATE TABLE BLOOOOOB (A INT NOT NULL,B INT NOT NULL);\"\"\")\n",
    "    conn.execute(\n",
    "        f\"INSERT INTO BLOOOOOB (A, B) \\\n",
    "        VALUES(3, 4)\")\n",
    "    conn.commit()\n",
    "    cursor = conn.execute('SELECT *')\n",
    "    names = [description[0] for description in cursor.description]\n",
    "    for row in cursor:\n",
    "        print(*row)"
   ]
  },
  {
   "cell_type": "code",
   "execution_count": 48,
   "id": "03a1c432-c22d-4efc-b82b-b6c2db32b148",
   "metadata": {},
   "outputs": [
    {
     "data": {
      "text/plain": [
       "'test\\n        test\\n        test'"
      ]
     },
     "execution_count": 48,
     "metadata": {},
     "output_type": "execute_result"
    }
   ],
   "source": []
  },
  {
   "cell_type": "code",
   "execution_count": null,
   "id": "ad6e9ffa-23cf-446d-94dc-503ab8981518",
   "metadata": {},
   "outputs": [],
   "source": []
  }
 ],
 "metadata": {
  "kernelspec": {
   "display_name": "Python 3",
   "language": "python",
   "name": "python3"
  },
  "language_info": {
   "codemirror_mode": {
    "name": "ipython",
    "version": 3
   },
   "file_extension": ".py",
   "mimetype": "text/x-python",
   "name": "python",
   "nbconvert_exporter": "python",
   "pygments_lexer": "ipython3",
   "version": "3.8.8"
  }
 },
 "nbformat": 4,
 "nbformat_minor": 5
}
